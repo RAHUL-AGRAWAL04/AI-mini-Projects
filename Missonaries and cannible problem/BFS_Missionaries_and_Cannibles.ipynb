{
  "nbformat": 4,
  "nbformat_minor": 0,
  "metadata": {
    "colab": {
      "name": "BFS_Missionaries_and_Cannibles.ipynb",
      "provenance": [],
      "collapsed_sections": []
    },
    "kernelspec": {
      "name": "python3",
      "display_name": "Python 3"
    }
  },
  "cells": [
    {
      "cell_type": "markdown",
      "metadata": {
        "id": "hmUu1_5q6VVH"
      },
      "source": [
        "Missonaries and cannible problem.\n",
        "==========================================================="
      ]
    },
    {
      "cell_type": "markdown",
      "metadata": {
        "id": "we4RVxyB1Gdw"
      },
      "source": [
        "Importing modules and Defining jug capacities"
      ]
    },
    {
      "cell_type": "code",
      "metadata": {
        "id": "Z1_sSYy9AiTE"
      },
      "source": [
        "from time import time\n",
        "import copy"
      ],
      "execution_count": null,
      "outputs": []
    },
    {
      "cell_type": "markdown",
      "metadata": {
        "id": "PSgoz9p61P9h"
      },
      "source": [
        "One missionary go to other side of the river"
      ]
    },
    {
      "cell_type": "code",
      "metadata": {
        "colab": {
          "base_uri": "https://localhost:8080/"
        },
        "id": "pqMMBeSsL7sf",
        "outputId": "84b02b09-f6d2-4ab9-cbc5-c471a53f9743"
      },
      "source": [
        "def M(left_state):\n",
        "  state=left_state[:]\n",
        "  if left_state[0]<left_state[1] and left_state[0]!=0:return None\n",
        "  if (3-left_state[0])<(3-left_state[1]) and (3-left_state[0]!=0): return None\n",
        "\n",
        "  if left_state[-1]==1 and left_state[0]>0:\n",
        "    left_state[0]-=1\n",
        "    left_state[-1]=0\n",
        "  elif left_state[0]<3:\n",
        "    left_state[0]+=1\n",
        "    left_state[-1]=1\n",
        "\n",
        "  if left_state[0]<left_state[1] and left_state[0]!=0: return None\n",
        "  if (3-left_state[0])<(3-left_state[1]) and (3-left_state[0]!=0):return None\n",
        "  if state==left_state:return None\n",
        "\n",
        "  return left_state\n",
        "\n",
        "#Driver code\n",
        "left_state=[3,2,1] #[M,C,B]\n",
        "print(M(left_state))"
      ],
      "execution_count": null,
      "outputs": [
        {
          "output_type": "stream",
          "text": [
            "[2, 2, 0]\n"
          ],
          "name": "stdout"
        }
      ]
    },
    {
      "cell_type": "markdown",
      "metadata": {
        "id": "blAm7d611i7E"
      },
      "source": [
        "One Cannible go to other side of the river"
      ]
    },
    {
      "cell_type": "code",
      "metadata": {
        "colab": {
          "base_uri": "https://localhost:8080/"
        },
        "id": "Iy1OzbiXf6sv",
        "outputId": "90094395-08c3-4442-fe06-faf75d4bb08c"
      },
      "source": [
        "def C(left_state):\n",
        "  state=left_state[:]\n",
        "  if left_state[0]<left_state[1] and left_state[0]!=0:return None\n",
        "  if (3-left_state[0])<(3-left_state[1]) and (3-left_state[0]!=0): return None\n",
        "\n",
        "  if left_state[-1]==1 and left_state[1]>0:\n",
        "    left_state[1]-=1\n",
        "    left_state[-1]=0\n",
        "  elif left_state[1]<3:\n",
        "    left_state[1]+=1\n",
        "    left_state[-1]=1\n",
        "\n",
        "  if left_state[0]<left_state[1] and left_state[0]!=0:return None\n",
        "  if (3-left_state[0])<(3-left_state[1]) and (3-left_state[0]!=0): return None\n",
        "  if state==left_state:return None\n",
        "\n",
        "  return (left_state)\n",
        "\n",
        "#Driver code\n",
        "left_state=[3,3,1] #[M,C,B]\n",
        "print(C(left_state))"
      ],
      "execution_count": null,
      "outputs": [
        {
          "output_type": "stream",
          "text": [
            "[3, 2, 0]\n"
          ],
          "name": "stdout"
        }
      ]
    },
    {
      "cell_type": "markdown",
      "metadata": {
        "id": "9vMmOw921l2U"
      },
      "source": [
        "Two Missionaries go to other side of the river"
      ]
    },
    {
      "cell_type": "code",
      "metadata": {
        "colab": {
          "base_uri": "https://localhost:8080/"
        },
        "id": "jTKdPpWEf8rc",
        "outputId": "ce56fb9e-6d43-46d5-9697-aa0ed3f7f453"
      },
      "source": [
        "def MM(left_state):\n",
        "  state=left_state[:]\n",
        "  if left_state[0]<left_state[1] and left_state[0]!=0:return None\n",
        "  if (3-left_state[0])<(3-left_state[1]) and (3-left_state[0]!=0): return None\n",
        "\n",
        "  if left_state[-1]==1 and left_state[0]>1:\n",
        "    left_state[0]-=2\n",
        "    left_state[-1]=0\n",
        "  elif left_state[0]<2:\n",
        "    left_state[0]+=2\n",
        "    left_state[-1]=1\n",
        "\n",
        "  if left_state[0]<left_state[1] and left_state[0]!=0:return None\n",
        "  if (3-left_state[0])<(3-left_state[1]) and (3-left_state[0]!=0): return None\n",
        "  if state==left_state:return None\n",
        "\n",
        "  return (left_state)\n",
        "\n",
        "#Driver code\n",
        "left_state=[2,2,1] #[M,C,B]\n",
        "print(MM(left_state))"
      ],
      "execution_count": null,
      "outputs": [
        {
          "output_type": "stream",
          "text": [
            "[0, 2, 0]\n"
          ],
          "name": "stdout"
        }
      ]
    },
    {
      "cell_type": "markdown",
      "metadata": {
        "id": "-qKh0wTj1q62"
      },
      "source": [
        "Two Cannible go to other side of the river"
      ]
    },
    {
      "cell_type": "code",
      "metadata": {
        "colab": {
          "base_uri": "https://localhost:8080/"
        },
        "id": "WJOfpwtPgAFx",
        "outputId": "5fe6cb60-9d7b-49c7-8697-494d2b88f9ab"
      },
      "source": [
        "def CC(left_state):\n",
        "  state=left_state[:]\n",
        "  if left_state[0]<left_state[1] and left_state[0]!=0:return None\n",
        "  if (3-left_state[0])<(3-left_state[1]) and (3-left_state[0]!=0): return None\n",
        "\n",
        "  if left_state[-1]==1 and left_state[1]>1:\n",
        "    left_state[1]-=2\n",
        "    left_state[-1]=0\n",
        "  elif left_state[1]<2:\n",
        "    left_state[1]+=2\n",
        "    left_state[-1]=1\n",
        "  \n",
        "  if left_state[0]<left_state[1] and left_state[0]!=0:return None\n",
        "  if (3-left_state[0])<(3-left_state[1]) and (3-left_state[0]!=0): return None\n",
        "  if state==left_state:return None\n",
        "\n",
        "  return (left_state)\n",
        "\n",
        "#Driver code\n",
        "left_state=[2,2,1] #[M,C,B]\n",
        "CC(left_state)"
      ],
      "execution_count": null,
      "outputs": [
        {
          "output_type": "execute_result",
          "data": {
            "text/plain": [
              "[3, 1, 0]"
            ]
          },
          "metadata": {
            "tags": []
          },
          "execution_count": 5
        }
      ]
    },
    {
      "cell_type": "markdown",
      "metadata": {
        "id": "iJuAwP2V1tRC"
      },
      "source": [
        "One Missonariy one Cannible go to other side of the river"
      ]
    },
    {
      "cell_type": "code",
      "metadata": {
        "colab": {
          "base_uri": "https://localhost:8080/"
        },
        "id": "sVxTehNIgDbP",
        "outputId": "8c0e49ba-eab2-4039-bf09-c4874b52087c"
      },
      "source": [
        "def MC(left_state):\n",
        "  state=left_state[:]\n",
        "  if left_state[0]<left_state[1] and left_state[0]!=0:return None\n",
        "  if (3-left_state[0])<(3-left_state[1]) and (3-left_state[0]!=0): return None\n",
        "\n",
        "  if left_state[-1]==1 and (left_state[0]>0 and left_state[1]>0) :\n",
        "    left_state[0]-=1\n",
        "    left_state[1]-=1\n",
        "    left_state[-1]=0\n",
        "  elif left_state[0]<3 and left_state[1]<3:\n",
        "    left_state[0]+=1\n",
        "    left_state[1]+=1\n",
        "    left_state[-1]=1\n",
        "  \n",
        "  if left_state[0]<left_state[1] and left_state[0]!=0:return None\n",
        "  if (3-left_state[0])<(3-left_state[1]) and (3-left_state[0]!=0): return None\n",
        "  if state==left_state:return None\n",
        "\n",
        "  return (left_state)\n",
        "\n",
        "#Driver code\n",
        "left_state=[3,3,1] #[M,C,B]\n",
        "print(MC(left_state))"
      ],
      "execution_count": null,
      "outputs": [
        {
          "output_type": "stream",
          "text": [
            "[2, 2, 0]\n"
          ],
          "name": "stdout"
        }
      ]
    },
    {
      "cell_type": "markdown",
      "metadata": {
        "id": "PKYDMVHf2rEF"
      },
      "source": [
        "Find path function defination. This function will find the intermediate states of a missonaries and cannible problem"
      ]
    },
    {
      "cell_type": "code",
      "metadata": {
        "colab": {
          "base_uri": "https://localhost:8080/"
        },
        "id": "shP6wY-i2qCD",
        "outputId": "daa00b48-16aa-4ecb-e9e5-b57c70f8a287"
      },
      "source": [
        "def find_path(parents):\n",
        "    path=[]\n",
        "    path.append(parents[len(parents)-1][1])\n",
        "    path.append(parents[len(parents)-1][0])\n",
        "    x=parents[len(parents)-1][0]\n",
        "    for parent in range(len(parents)-2,-1,-1):\n",
        "        if parents[parent][1]==x:\n",
        "            x=parents[parent][0]\n",
        "            path.append(x)\n",
        "    return path\n",
        "#drivers code\n",
        "x=find_path([['E', 'A'], ['E', 'B'], ['E', 'D'], ['E', 'H'], ['A', 'C'], ['H', 'F'], ['C', 'G']])\n",
        "print(x)"
      ],
      "execution_count": null,
      "outputs": [
        {
          "output_type": "stream",
          "text": [
            "['G', 'C', 'A', 'E']\n"
          ],
          "name": "stdout"
        }
      ]
    },
    {
      "cell_type": "markdown",
      "metadata": {
        "id": "jSaQ8ygV1xkM"
      },
      "source": [
        "BFS goal state function defination"
      ]
    },
    {
      "cell_type": "code",
      "metadata": {
        "colab": {
          "base_uri": "https://localhost:8080/"
        },
        "id": "FEGvukjrAiTM",
        "outputId": "bcc396b7-d1fd-417d-d08e-d132e20a88bc"
      },
      "source": [
        "def bfs_goal_search(start,goal):\n",
        "    # keep track of all visited nodes\n",
        "    explored = []\n",
        "    # keep track of nodes to be checked\n",
        "    queue = [start]\n",
        "    neighbour=[]\n",
        "    parents=[]\n",
        "    \n",
        "    if(start==goal):\n",
        "        return(print(\"start is goal\"))\n",
        "\n",
        "    c=0\n",
        "    while queue:\n",
        "        c+=1\n",
        "        node = queue.pop(0)\n",
        "        print('c=',c,' | node=',node)\n",
        "        if node not in explored:\n",
        "            # add node to list of checked nodes\n",
        "            explored.append(node[:])\n",
        "        neighbour = M(node[:])\n",
        "        if neighbour != None:\n",
        "            if neighbour not in queue and neighbour not in explored :\n",
        "                queue.append(neighbour[:])\n",
        "                parents.append([node[:],neighbour[:]])\n",
        "            if neighbour == goal:\n",
        "                return find_path(parents)\n",
        "                    \n",
        "        neighbour = C(node[:])\n",
        "        if neighbour != None:\n",
        "            if neighbour not in queue and neighbour not in explored :\n",
        "                queue.append(neighbour[:])\n",
        "                parents.append([node[:],neighbour[:]])\n",
        "            if neighbour == goal:\n",
        "                return find_path(parents)\n",
        "        \n",
        "        neighbour = MM(node[:])\n",
        "        if neighbour != None:\n",
        "            if neighbour not in queue and neighbour not in explored :\n",
        "                queue.append(neighbour[:])\n",
        "                parents.append([node[:],neighbour][:])\n",
        "            if neighbour == goal:\n",
        "                return find_path(parents)\n",
        "            \n",
        "        neighbour = CC(node[:])\n",
        "        if neighbour != None:\n",
        "            if neighbour not in queue and neighbour not in explored :\n",
        "                queue.append(neighbour[:])\n",
        "                parents.append([node[:],neighbour[:]])\n",
        "            if neighbour == goal:\n",
        "                return find_path(parents)\n",
        "\n",
        "        neighbour = MC(node[:])\n",
        "        if neighbour != None:\n",
        "            if neighbour not in queue and neighbour not in explored :\n",
        "                queue.append(neighbour[:])\n",
        "                parents.append([node[:],neighbour[:]])\n",
        "            if neighbour == goal:\n",
        "                return find_path(parents)\n",
        "     \n",
        "# driver code      \n",
        "start = [0,0,0]\n",
        "goal = [3,3,1]\n",
        "print('Solution of Missionaries and cannible problem.')\n",
        "print('==============================================')\n",
        "s_time = time()\n",
        "solutions = bfs_goal_search(start,goal)\n",
        "e_time = time()\n",
        "solutions=solutions[::-1]\n",
        "print()\n",
        "for solution in solutions:\n",
        "  print(solution)\n",
        "print('\\nTime =',e_time-s_time)\n"
      ],
      "execution_count": null,
      "outputs": [
        {
          "output_type": "stream",
          "text": [
            "Solution of Missionaries and cannible problem.\n",
            "==============================================\n",
            "c= 1  | node= [0, 0, 0]\n",
            "c= 2  | node= [0, 1, 1]\n",
            "c= 3  | node= [0, 2, 1]\n",
            "c= 4  | node= [1, 1, 1]\n",
            "c= 5  | node= [0, 3, 1]\n",
            "c= 6  | node= [0, 1, 0]\n",
            "c= 7  | node= [2, 2, 1]\n",
            "c= 8  | node= [3, 1, 1]\n",
            "\n",
            "[0, 0, 0]\n",
            "[1, 1, 1]\n",
            "[3, 1, 1]\n",
            "[3, 3, 1]\n",
            "\n",
            "Time = 0.004588603973388672\n"
          ],
          "name": "stdout"
        }
      ]
    },
    {
      "cell_type": "code",
      "metadata": {
        "colab": {
          "base_uri": "https://localhost:8080/"
        },
        "id": "uvsWKUYqXNbn",
        "outputId": "3ccb84fe-6113-42ff-813e-0f06218f9bca"
      },
      "source": [
        "def bfs_goal_search(start,goal):\n",
        "    # keep track of all visited nodes\n",
        "    explored = []\n",
        "    # keep track of nodes to be checked\n",
        "    queue = [start]\n",
        "    neighbour=[]\n",
        "    parents=[]\n",
        "    \n",
        "    if(start==goal):\n",
        "        return(print(\"start is goal\"))\n",
        "\n",
        "    c=0\n",
        "    while queue:\n",
        "        c+=1\n",
        "        node = queue.pop(0)\n",
        "        print('c=',c,' | node=',node)\n",
        "        if node not in explored:\n",
        "            # add node to list of checked nodes\n",
        "            explored.append(node[:])\n",
        "        neighbour = M(node[:])\n",
        "        if neighbour != None:\n",
        "            if neighbour not in queue and neighbour not in explored :\n",
        "                queue.append(neighbour[:])\n",
        "                parents.append([node[:],neighbour[:]])\n",
        "            if neighbour == goal:\n",
        "                return find_path(parents)\n",
        "                    \n",
        "        neighbour = C(node[:])\n",
        "        if neighbour != None:\n",
        "            if neighbour not in queue and neighbour not in explored :\n",
        "                queue.append(neighbour[:])\n",
        "                parents.append([node[:],neighbour[:]])\n",
        "            if neighbour == goal:\n",
        "                return find_path(parents)\n",
        "        \n",
        "        neighbour = MM(node[:])\n",
        "        if neighbour != None:\n",
        "            if neighbour not in queue and neighbour not in explored :\n",
        "                queue.append(neighbour[:])\n",
        "                parents.append([node[:],neighbour][:])\n",
        "            if neighbour == goal:\n",
        "                return find_path(parents)\n",
        "            \n",
        "        neighbour = CC(node[:])\n",
        "        if neighbour != None:\n",
        "            if neighbour not in queue and neighbour not in explored :\n",
        "                queue.append(neighbour[:])\n",
        "                parents.append([node[:],neighbour[:]])\n",
        "            if neighbour == goal:\n",
        "                return find_path(parents)\n",
        "\n",
        "        neighbour = MC(node[:])\n",
        "        if neighbour != None:\n",
        "            if neighbour not in queue and neighbour not in explored :\n",
        "                queue.append(neighbour[:])\n",
        "                parents.append([node[:],neighbour[:]])\n",
        "            if neighbour == goal:\n",
        "                return find_path(parents)\n",
        "     \n",
        "# driver code      \n",
        "start = [3,3,1]\n",
        "goal = [0,0,0]\n",
        "print('Solution of Missionaries and cannible problem.')\n",
        "print('==============================================')\n",
        "s_time = time()\n",
        "solutions = bfs_goal_search(start,goal)\n",
        "e_time = time()\n",
        "solutions=solutions[::-1]\n",
        "print()\n",
        "for solution in solutions:\n",
        "  print(solution)\n",
        "print('\\nTime =',e_time-s_time)\n"
      ],
      "execution_count": null,
      "outputs": [
        {
          "output_type": "stream",
          "text": [
            "Solution of Missionaries and cannible problem.\n",
            "==============================================\n",
            "c= 1  | node= [3, 3, 1]\n",
            "c= 2  | node= [3, 2, 0]\n",
            "c= 3  | node= [3, 1, 0]\n",
            "c= 4  | node= [2, 2, 0]\n",
            "c= 5  | node= [3, 2, 1]\n",
            "c= 6  | node= [3, 0, 0]\n",
            "c= 7  | node= [3, 1, 1]\n",
            "c= 8  | node= [1, 1, 0]\n",
            "c= 9  | node= [2, 2, 1]\n",
            "c= 10  | node= [0, 2, 0]\n",
            "c= 11  | node= [0, 3, 1]\n",
            "c= 12  | node= [0, 1, 0]\n",
            "c= 13  | node= [1, 1, 1]\n",
            "\n",
            "[3, 3, 1]\n",
            "[3, 1, 0]\n",
            "[3, 2, 1]\n",
            "[3, 0, 0]\n",
            "[3, 1, 1]\n",
            "[1, 1, 0]\n",
            "[2, 2, 1]\n",
            "[0, 2, 0]\n",
            "[0, 3, 1]\n",
            "[0, 1, 0]\n",
            "[1, 1, 1]\n",
            "[0, 0, 0]\n",
            "\n",
            "Time = 0.00513148307800293\n"
          ],
          "name": "stdout"
        }
      ]
    }
  ]
}