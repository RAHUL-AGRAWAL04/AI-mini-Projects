{
  "nbformat": 4,
  "nbformat_minor": 0,
  "metadata": {
    "kernelspec": {
      "display_name": "Python 3",
      "language": "python",
      "name": "python3"
    },
    "language_info": {
      "codemirror_mode": {
        "name": "ipython",
        "version": 3
      },
      "file_extension": ".py",
      "mimetype": "text/x-python",
      "name": "python",
      "nbconvert_exporter": "python",
      "pygments_lexer": "ipython3",
      "version": "3.7.0"
    },
    "colab": {
      "name": "2_Water_Jug_Problem_BFS.ipynb",
      "provenance": [],
      "collapsed_sections": []
    }
  },
  "cells": [
    {
      "cell_type": "markdown",
      "metadata": {
        "id": "sLOCqxyxAiTA"
      },
      "source": [
        "## BFS - 2 Water Jug Problem - 4L from 8L, 5L Jug capacities \n",
        "###{(0,0)->(4,0)}"
      ]
    },
    {
      "cell_type": "code",
      "metadata": {
        "id": "Z1_sSYy9AiTE"
      },
      "source": [
        "import time\n",
        "import copy\n",
        "jug1 = 8\n",
        "jug2 = 5"
      ],
      "execution_count": null,
      "outputs": []
    },
    {
      "cell_type": "markdown",
      "metadata": {
        "id": "GR8GuIX0amzD"
      },
      "source": [
        "### Fill water in jug A from tap"
      ]
    },
    {
      "cell_type": "code",
      "metadata": {
        "colab": {
          "base_uri": "https://localhost:8080/"
        },
        "id": "EKT4ls1IAiTG",
        "outputId": "6924a647-e7a9-4bad-b387-76223e0dfc5c"
      },
      "source": [
        "def fill_water_in_jug_A_from_tap(capacity):\n",
        "    current_a = capacity[0]\n",
        "    current_b = capacity[1]\n",
        "    return [jug1,current_b]\n",
        "            \n",
        "# driver code:\n",
        "new_A = fill_water_in_jug_A_from_tap([0,0])\n",
        "print(new_A)"
      ],
      "execution_count": null,
      "outputs": [
        {
          "output_type": "stream",
          "text": [
            "[8, 0]\n"
          ],
          "name": "stdout"
        }
      ]
    },
    {
      "cell_type": "markdown",
      "metadata": {
        "id": "b-7GTulVaswN"
      },
      "source": [
        "### Fill water in jug B from tap"
      ]
    },
    {
      "cell_type": "code",
      "metadata": {
        "colab": {
          "base_uri": "https://localhost:8080/"
        },
        "id": "7yUzabYVAiTI",
        "outputId": "d3102f8a-a4a4-4617-b98f-eb82ddf4ee2b"
      },
      "source": [
        "def fill_water_in_jug_B_from_tap(capacity):\n",
        "    current_a = capacity[0]\n",
        "    current_b = capacity[1]\n",
        "    return [current_a,jug2]\n",
        "            \n",
        "# driver code:\n",
        "new_B = fill_water_in_jug_B_from_tap([2,3])\n",
        "print(new_B)"
      ],
      "execution_count": null,
      "outputs": [
        {
          "output_type": "stream",
          "text": [
            "[2, 5]\n"
          ],
          "name": "stdout"
        }
      ]
    },
    {
      "cell_type": "markdown",
      "metadata": {
        "id": "dIO2gNy9aw-u"
      },
      "source": [
        "### Empty water from jug A on the ground"
      ]
    },
    {
      "cell_type": "code",
      "metadata": {
        "colab": {
          "base_uri": "https://localhost:8080/"
        },
        "id": "TRMfqxdzAiTJ",
        "outputId": "fca92f78-c211-4474-c4b1-b10575cb71b2"
      },
      "source": [
        "def empty_jug_A_on_ground(capacity):\n",
        "    current_a = capacity[0]\n",
        "    current_b = capacity[1]\n",
        "    return [0,current_b]\n",
        "            \n",
        "# driver code:\n",
        "new_A = empty_jug_A_on_ground([8,2])\n",
        "print(new_A)"
      ],
      "execution_count": null,
      "outputs": [
        {
          "output_type": "stream",
          "text": [
            "[0, 2]\n"
          ],
          "name": "stdout"
        }
      ]
    },
    {
      "cell_type": "markdown",
      "metadata": {
        "id": "qqdkBkYaa-c3"
      },
      "source": [
        "### Empty water from jug B on the ground"
      ]
    },
    {
      "cell_type": "code",
      "metadata": {
        "colab": {
          "base_uri": "https://localhost:8080/"
        },
        "id": "cFXozIHhAiTJ",
        "outputId": "7fbbcd0d-f1b2-47e4-b53f-5ccdeaf4034c"
      },
      "source": [
        "def empty_jug_B_on_ground(capacity):\n",
        "    current_a = capacity[0]\n",
        "    current_b = capacity[1]\n",
        "    return [current_a,0]\n",
        "            \n",
        "# driver code:\n",
        "new_B = empty_jug_B_on_ground([5,4])\n",
        "print(new_B)"
      ],
      "execution_count": null,
      "outputs": [
        {
          "output_type": "stream",
          "text": [
            "[5, 0]\n"
          ],
          "name": "stdout"
        }
      ]
    },
    {
      "cell_type": "markdown",
      "metadata": {
        "id": "lnu9-26va9ZY"
      },
      "source": [
        "### Pour water from jug A to jug B until A get empty or B get full"
      ]
    },
    {
      "cell_type": "code",
      "metadata": {
        "colab": {
          "base_uri": "https://localhost:8080/"
        },
        "id": "LOVKBib6AiTK",
        "outputId": "0f5f9ff0-10aa-4fe3-fb17-a476ad2129f1"
      },
      "source": [
        "def pour_water_from_A_to_B(capacity):\n",
        "    current_a = capacity[0]\n",
        "    current_b = capacity[1]\n",
        "    available_capacity = jug2-current_b\n",
        "    while True:\n",
        "      if (current_a<=0 or current_b>=jug2) or available_capacity<=0:\n",
        "          break\n",
        "      else:\n",
        "        available_capacity -= 1\n",
        "        current_a -= 1\n",
        "        current_b += 1\n",
        "    return [current_a,current_b]       \n",
        "# driver code:\n",
        "new_states = pour_water_from_A_to_B([8,2])\n",
        "print(new_states)"
      ],
      "execution_count": null,
      "outputs": [
        {
          "output_type": "stream",
          "text": [
            "[5, 5]\n"
          ],
          "name": "stdout"
        }
      ]
    },
    {
      "cell_type": "markdown",
      "metadata": {
        "id": "NW0iDE6obZsH"
      },
      "source": [
        "### Pour water from jug B to jug A until B get empty or A get full"
      ]
    },
    {
      "cell_type": "code",
      "metadata": {
        "colab": {
          "base_uri": "https://localhost:8080/"
        },
        "id": "hnfW02qCAiTL",
        "outputId": "5fca0ac8-0853-47e6-aee5-b8eb2a5f6f2c"
      },
      "source": [
        "def pour_water_from_B_to_A(capacity):\n",
        "    current_a = capacity[0]\n",
        "    current_b = capacity[1]\n",
        "    available_capacity = jug1-current_a\n",
        "    while True:\n",
        "      if (current_a>=jug1 or current_b<=0) or available_capacity<=0:\n",
        "          break\n",
        "      else:\n",
        "        available_capacity -= 1\n",
        "        current_a += 1\n",
        "        current_b -= 1\n",
        "    return [current_a,current_b]       \n",
        "            \n",
        "# driver code:\n",
        "new_states = pour_water_from_B_to_A([6,5])\n",
        "print(new_states)"
      ],
      "execution_count": null,
      "outputs": [
        {
          "output_type": "stream",
          "text": [
            "[8, 3]\n"
          ],
          "name": "stdout"
        }
      ]
    },
    {
      "cell_type": "markdown",
      "metadata": {
        "id": "qmLJmctdbdhN"
      },
      "source": [
        "### Searching goal node "
      ]
    },
    {
      "cell_type": "code",
      "metadata": {
        "colab": {
          "base_uri": "https://localhost:8080/"
        },
        "id": "FEGvukjrAiTM",
        "outputId": "b24bdab4-aa75-4252-db89-1b7f2392c785"
      },
      "source": [
        "def bfs_goal_search(start,goal):\n",
        "    # keep track of all visited nodes\n",
        "    explored = []\n",
        "    # keep track of nodes to be checked\n",
        "    queue = [start]\n",
        "    neighbour=[]\n",
        "    parents=[]\n",
        "    \n",
        "    if(start==goal):\n",
        "        return(print(\"start is goal\"))\n",
        "\n",
        "    c=0\n",
        "    while queue:\n",
        "        c=c+1\n",
        "        print(c)\n",
        "        # pop shallowest node (first node) from queue\n",
        "        node = queue.pop(0)\n",
        "        print(\"node=\",node)\n",
        "        if node not in explored:\n",
        "            # add node to list of checked nodes\n",
        "            explored.append(node)\n",
        "\n",
        "        neighbour = fill_water_in_jug_A_from_tap(node)\n",
        "        if neighbour != None:\n",
        "            if neighbour not in queue and neighbour not in explored :\n",
        "                queue.append(neighbour)\n",
        "                parents.append([node,neighbour])\n",
        "            if neighbour == goal:\n",
        "                return neighbour\n",
        "                    \n",
        "        neighbour = fill_water_in_jug_B_from_tap(node)\n",
        "        if neighbour != None:\n",
        "            if neighbour not in queue and neighbour not in explored :\n",
        "                queue.append(neighbour)\n",
        "                parents.append([node,neighbour])\n",
        "            if neighbour == goal:\n",
        "                return neighbour\n",
        "        \n",
        "        neighbour = empty_jug_A_on_ground(node)\n",
        "        if neighbour != None:\n",
        "            if neighbour not in queue and neighbour not in explored :\n",
        "                queue.append(neighbour)\n",
        "                parents.append([node,neighbour])\n",
        "            if neighbour == goal:\n",
        "                return neighbour\n",
        "            \n",
        "        neighbour = empty_jug_B_on_ground(node)\n",
        "        if neighbour != None:\n",
        "            if neighbour not in queue and neighbour not in explored :\n",
        "                queue.append(neighbour)\n",
        "                parents.append([node,neighbour])\n",
        "            if neighbour == goal:\n",
        "                return neighbour\n",
        "\n",
        "        neighbour = pour_water_from_A_to_B(node)\n",
        "        if neighbour != None:\n",
        "            if neighbour not in queue and neighbour not in explored :\n",
        "                queue.append(neighbour)\n",
        "                parents.append([node,neighbour])\n",
        "            if neighbour == goal:\n",
        "                return neighbour\n",
        "\n",
        "        neighbour = pour_water_from_B_to_A(node)\n",
        "        if neighbour != None:\n",
        "            if neighbour not in queue and neighbour not in explored :\n",
        "                queue.append(neighbour)\n",
        "                parents.append([node,neighbour])\n",
        "            if neighbour == goal:\n",
        "                return neighbour\n",
        "            \n",
        "     \n",
        "# driver code      \n",
        "start1 = [0,0]\n",
        "goal1 = [4,0]\n",
        "bfs_goal_search(start1,goal1)"
      ],
      "execution_count": null,
      "outputs": [
        {
          "output_type": "stream",
          "text": [
            "1\n",
            "node= [0, 0]\n",
            "2\n",
            "node= [8, 0]\n",
            "3\n",
            "node= [0, 5]\n",
            "4\n",
            "node= [8, 5]\n",
            "5\n",
            "node= [3, 5]\n",
            "6\n",
            "node= [5, 0]\n",
            "7\n",
            "node= [3, 0]\n",
            "8\n",
            "node= [5, 5]\n",
            "9\n",
            "node= [0, 3]\n",
            "10\n",
            "node= [8, 2]\n",
            "11\n",
            "node= [8, 3]\n",
            "12\n",
            "node= [0, 2]\n",
            "13\n",
            "node= [6, 5]\n",
            "14\n",
            "node= [2, 0]\n",
            "15\n",
            "node= [6, 0]\n",
            "16\n",
            "node= [2, 5]\n",
            "17\n",
            "node= [1, 5]\n",
            "18\n",
            "node= [7, 0]\n",
            "19\n",
            "node= [1, 0]\n",
            "20\n",
            "node= [7, 5]\n",
            "21\n",
            "node= [0, 1]\n",
            "22\n",
            "node= [8, 4]\n",
            "23\n",
            "node= [8, 1]\n",
            "24\n",
            "node= [0, 4]\n"
          ],
          "name": "stdout"
        },
        {
          "output_type": "execute_result",
          "data": {
            "text/plain": [
              "[4, 0]"
            ]
          },
          "metadata": {
            "tags": []
          },
          "execution_count": 56
        }
      ]
    }
  ]
}