{
  "nbformat": 4,
  "nbformat_minor": 0,
  "metadata": {
    "colab": {
      "name": "knn.ipynb",
      "provenance": [],
      "collapsed_sections": []
    },
    "kernelspec": {
      "name": "python3",
      "display_name": "Python 3"
    }
  },
  "cells": [
    {
      "cell_type": "markdown",
      "metadata": {
        "id": "DD4RiPlSAC68"
      },
      "source": [
        "KNN Implementation"
      ]
    },
    {
      "cell_type": "code",
      "metadata": {
        "id": "_onbH9Pa_P3-"
      },
      "source": [
        "from math import sqrt\n",
        "import matplotlib.pyplot as plt "
      ],
      "execution_count": null,
      "outputs": []
    },
    {
      "cell_type": "markdown",
      "metadata": {
        "id": "ptrrx_cw_URX"
      },
      "source": [
        "Calculating Euclidean distance between two points"
      ]
    },
    {
      "cell_type": "code",
      "metadata": {
        "colab": {
          "base_uri": "https://localhost:8080/"
        },
        "id": "kIGPDqzA_Rma",
        "outputId": "cd9d262c-c2e2-4971-8329-4a42cc321e72"
      },
      "source": [
        "def euclidean_distance(point1, point2):\n",
        "\tdistance = 0.0\n",
        "\tdistance = ((point1[0] - point2[0])**2) + ((point1[1] - point2[1])**2)\n",
        "\treturn sqrt(distance)\n",
        "\n",
        "#Driver Code\n",
        "point1 = [0,0]\n",
        "point2 = [4,6]\n",
        "euclidean_distance(point1, point2)"
      ],
      "execution_count": null,
      "outputs": [
        {
          "output_type": "execute_result",
          "data": {
            "text/plain": [
              "7.211102550927978"
            ]
          },
          "metadata": {
            "tags": []
          },
          "execution_count": 55
        }
      ]
    },
    {
      "cell_type": "markdown",
      "metadata": {
        "id": "npoJ6T7Q_hjB"
      },
      "source": [
        "Locating the most nearest neighbours"
      ]
    },
    {
      "cell_type": "code",
      "metadata": {
        "colab": {
          "base_uri": "https://localhost:8080/"
        },
        "id": "CLIPr1BB_qtr",
        "outputId": "b39d4a33-09b8-4ece-91df-30b941243373"
      },
      "source": [
        "def get_neighbors(training_data, testing_data, number_of_neighbors):\n",
        "\n",
        "  distances = []\n",
        "  for training_row in training_data:\n",
        "    dist = euclidean_distance(testing_data, training_row)\n",
        "    distances.append((training_row, dist))\n",
        "  distances.sort(key=lambda element: element[1])\n",
        "  #print(distances)\n",
        "  neighbors = []\n",
        "  for i in range(number_of_neighbors):\n",
        "    neighbors.append(distances[i][0])\n",
        "  return neighbors\n",
        "\n",
        "#Driver Code\n",
        "dataset = [[2.7810836,2.550537003,0],\n",
        "\t[1.465489372,2.362125076,0],\n",
        "\t[3.396561688,4.400293529,0],\n",
        "\t[1.38807019,1.850220317,0],\n",
        "\t[3.06407232,3.005305973,0],\n",
        "\t[7.627531214,2.759262235,1],\n",
        "\t[5.332441248,2.088626775,1],\n",
        "\t[6.922596716,1.77106367,1],\n",
        "\t[8.675418651,-0.242068655,1],\n",
        "\t[7.673756466,3.508563011,1]]\n",
        "\n",
        "#Driver Code\n",
        "testing_data = [7,7]\n",
        "get_neighbors(dataset, testing_data, 5)"
      ],
      "execution_count": null,
      "outputs": [
        {
          "output_type": "execute_result",
          "data": {
            "text/plain": [
              "[[7.673756466, 3.508563011, 1],\n",
              " [7.627531214, 2.759262235, 1],\n",
              " [3.396561688, 4.400293529, 0],\n",
              " [5.332441248, 2.088626775, 1],\n",
              " [6.922596716, 1.77106367, 1]]"
            ]
          },
          "metadata": {
            "tags": []
          },
          "execution_count": 57
        }
      ]
    },
    {
      "cell_type": "markdown",
      "metadata": {
        "id": "E7GfwKyC_mdO"
      },
      "source": [
        "Make a classification prediction with neighbors"
      ]
    },
    {
      "cell_type": "code",
      "metadata": {
        "colab": {
          "base_uri": "https://localhost:8080/",
          "height": 347
        },
        "id": "bdia3DiE-nON",
        "outputId": "394556c5-ff1f-49de-980e-f35c5133c99f"
      },
      "source": [
        "def predict_classification(train, test_row, num_neighbors):\n",
        "  neighbors = get_neighbors(train, test_row, num_neighbors)\n",
        "  neighbour_classes = []\n",
        "  for neighbour in neighbors:\n",
        "    neighbour_classes.append(neighbour[-1])\n",
        "\n",
        "  prediction = max(set(neighbour_classes), key=neighbour_classes.count)\n",
        "  return prediction\n",
        " \n",
        "# Test distance function\n",
        "dataset = [[2.7810836,2.550537003,0],\n",
        "\t[1.465489372,2.362125076,0],\n",
        "\t[3.396561688,4.400293529,0],\n",
        "\t[1.38807019,1.850220317,0],\n",
        "\t[3.06407232,3.005305973,0],\n",
        "\t[7.627531214,2.759262235,1],\n",
        "\t[5.332441248,2.088626775,1],\n",
        "\t[6.922596716,1.77106367,1],\n",
        "\t[8.675418651,-0.242068655,1],\n",
        "\t[7.673756466,3.508563011,1]]\n",
        "\n",
        "testing_data = [4,6]\n",
        "\n",
        "prediction = predict_classification(dataset, testing_data, 3)\n",
        "print('class = %d.\\n\\n' % (prediction))\n",
        "\n",
        "#Graph plotting\n",
        "x_dataset = [data[0] for data in dataset]  \n",
        "y_dataset = [data[1] for data in dataset]  \n",
        "plt.scatter(x_dataset, y_dataset)  \n",
        "plt.xlabel('x - axis')  \n",
        "plt.ylabel('y - axis')  \n",
        "plt.title('knn graph')  \n",
        "plt.show()  "
      ],
      "execution_count": null,
      "outputs": [
        {
          "output_type": "stream",
          "text": [
            "class = 0.\n",
            "\n",
            "\n"
          ],
          "name": "stdout"
        },
        {
          "output_type": "display_data",
          "data": {
            "image/png": "[encoded data removed]",
            "text/plain": [
              "<Figure size 432x288 with 1 Axes>"
            ]
          },
          "metadata": {
            "tags": [],
            "needs_background": "light"
          }
        }
      ]
    },
    {
      "cell_type": "code",
      "metadata": {
        "colab": {
          "base_uri": "https://localhost:8080/",
          "height": 295
        },
        "id": "bcFhLFE_PGX3",
        "outputId": "53b650e8-5b5b-4f07-fbb7-9add65dfa342"
      },
      "source": [
        "\n",
        "\n"
      ],
      "execution_count": null,
      "outputs": [
        {
          "output_type": "display_data",
          "data": {
            "image/png": "[encoded data removed]",
            "text/plain": [
              "<Figure size 432x288 with 1 Axes>"
            ]
          },
          "metadata": {
            "tags": [],
            "needs_background": "light"
          }
        }
      ]
    }
  ]
}