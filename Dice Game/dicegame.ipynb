{
  "nbformat": 4,
  "nbformat_minor": 0,
  "metadata": {
    "kernelspec": {
      "display_name": "Python 3.6",
      "language": "python",
      "name": "python3"
    },
    "language_info": {
      "codemirror_mode": {
        "name": "ipython",
        "version": 3
      },
      "file_extension": ".py",
      "mimetype": "text/x-python",
      "name": "python",
      "nbconvert_exporter": "python",
      "pygments_lexer": "ipython3",
      "version": "3.8.0"
    },
    "colab": {
      "name": "dicegame.ipynb",
      "provenance": [],
      "collapsed_sections": []
    }
  },
  "cells": [
    {
      "cell_type": "markdown",
      "metadata": {
        "id": "vf2K6o6WFIaf"
      },
      "source": [
        "# The Dice Game\n",
        "## Assignment Preamble\n",
        "Please ensure you carefully read all of the details and instructions on the assignment page, this section, and the rest of the notebook. If anything is unclear at any time please post on the forum or ask a tutor well in advance of the assignment deadline.\n",
        "\n",
        "In addition to all of the instructions in the body of the assignment below, you must also follow the following technical instructions for all assignments in this unit. *Failure to do so may result in a grade of zero.*\n",
        "* [At the bottom of the page](#Submission-Test) is some code which checks you meet the submission requirements. You **must** ensure that this runs correctly before submission.\n",
        "* Do not modify or delete any of the cells that are marked as test cells, even if they appear to be empty.\n",
        "* Do not duplicate any cells in the notebook – this can break the marking script. Instead, insert a new cell (e.g. from the menu) and copy across any contents as necessary.\n",
        "\n",
        "Remember to save and backup your work regularly, and double-check you are submitting the correct version.\n",
        "\n",
        "This notebook is the primary reference for your submission. You may write code in separate `.py` files but it must be clearly imported into the notebook so that it runs without needing to reference those files, and you must explain clearly what functionality is contained in those files (through comments, markdown cells, etc).\n",
        "\n",
        "As always, **the work you submit for this assignment must be entirely your own.** Do not copy or work with other students. Do not copy answers that you find online. These assignments are designed to help improve your understanding first and foremost – the process of doing the assignment is part of *learning*. They are also used to assess your ability, and so you must uphold academic integrity. Submitting plagiarised work risks your entire place on your degree.\n",
        "\n",
        "**The pass mark for this assignment is 40%.** We expect that students, on average, will be able to produce a submission which gets a mark between 50-70% within the normal workload allocation for the unit, but this will vary depending on individual backgrounds. Please ask for help if you are struggling.\n",
        "\n",
        "## Getting Started\n",
        "For this assignment, you will be writing an agent that can play a simple dice game. Here are the basic rules:\n",
        "* You start with 0 points\n",
        "* Roll three fair six-sided dice\n",
        "* Now choose one of the following:\n",
        " * Stick, accept the values shown. If two or more dice show the same values, then all of them are flipped upside down: 1 becomes 6, 2 becomes 5, 3 becomes 4, and vice versa. The total is then added to your points and this is your final score.\n",
        " * OR reroll the dice. You may choose to hold any combination of the dice on the current value shown. Rerolling costs you 1 point – so during the game and perhaps even at the end your score may be negative. You then make this same choice again.\n",
        "\n",
        "The best possible score for this game is 18 and is achieved by rolling three 1s on the first roll.\n",
        "\n",
        "The reroll penalty prevents you from rolling forever to get this score. If the value of the current dice is greater than the expected value of rerolling them (accounting for the penalty), then you should stick.\n",
        "\n",
        "The optimal decision is independent of your current score. It does not matter whether it is your first roll with a current score of 0, or your twentieth roll with a current score of -19 (in which case a positive end score is impossible), in either of these cases if you roll three 6s (which, if you stick, will only add 3 points) then you still expect to get a *better* end score by rerolling and taking the penalty. Almost any other roll will beat it, so it's still the right choice to maximise your score.\n",
        "\n",
        "It is pretty obvious that you should stick on three 1s, and reroll on three 6s. Should you hold any of the 6s when you reroll? What about other values? What should you do if the dice come up 3, 4, 5?\n",
        "\n",
        "We do not know what numbers will come up when we roll, but we do know exactly what the probability of any given roll is. This is the point of the probabilistic reasoning section of the unit; if we can model the true probabilities then we can mathematically calculate the optimal policy. Not all real world situations use dice, but these techniques work well even if we can only estimate the true probabilities.\n",
        "\n",
        "### Play The Game\n",
        "You can play the game in the following cell. Change the `SKIP_GAME` constant to `False` to enable this cell. \n",
        "<br> *Make sure to change it back to `True` before submitting.*"
      ]
    },
    {
      "cell_type": "code",
      "metadata": {
        "id": "LlrOi1OQFIao"
      },
      "source": [
        "SKIP_GAME = True\n",
        "if not SKIP_GAME:\n",
        "    %run dice_game.py"
      ],
      "execution_count": null,
      "outputs": []
    },
    {
      "cell_type": "markdown",
      "metadata": {
        "id": "3L35W4htFIar"
      },
      "source": [
        "### Submission Requirements\n",
        "The code supports playing this game with many possible modifications – you can change the number of dice, the values on the dice, or even make biased (weighted) dice that are more likely to roll certain values. More on this later.\n",
        "\n",
        "For this assignment you will need to submit:\n",
        "1. The implementation for an agent which can play the game – this notebook\n",
        " * You can write this however you like, using the unit material or otherwise\n",
        " * Your code will be subject to automated testing, from which grades will be assigned depending on how well your agent plays the game (potentially with modifications)\n",
        " * To get a high grade on this assignment, the speed of your code will also be a factor – the quicker the better\n",
        " * There are some sample tests and skeleton code included below, make sure your code is compatible with the format of these tests\n",
        "2. A text file that explains your approach and the decisions you made in your own words – a readme file\n",
        " * Submissions that do not include the written section will receive zero marks – **this part is mandatory**\n",
        " * You may write your file in plain text (.txt) or [Markdown](https://www.markdownguide.org/basic-syntax/) (.md)\n",
        " * To get top marks on this assignment, as well as getting a high grade from your implementation, you must also demonstrate excellent academic presentation in your written section\n",
        " \n",
        "### Choice of Algorithm\n",
        "You can take any approach you like to write your agent. We have provided two examples for you, though these agents do not perform very well, and would not pass the assignment, they should help you structure your code.\n",
        "\n",
        "We have covered *value iteration* in the unit, and this technique will work well here to produce a strategy for the game, which your agent can then follow. It is up to you to work out the parameters that will be suit the value iteration algorithm to maximise your score.\n",
        "\n",
        "However, there are many other possible options. Simply calculating the expected value of a single roll will produce a much stronger strategy than playing randomly. You could also look up various other approaches that can be applied to Markov decision processes, such as policy iteration.\n",
        "\n",
        "To get a high grade on this assignment will require a particularly efficient implementation value iteration with intelligent choice of parameters, or something which goes beyond the material we have presented. *This is left unguided and is not factored into the unit workload estimates.*\n",
        "\n",
        "Note that you can write your agent to support modified versions of the game, which is also demonstrated below. For submissions that support this, the tests will include modified versions of the game, some where the game is *more obvious*, and some where it is *less obvious* than the default rules. Getting high marks requires supporting this feature. For those who are struggling to write a good agent, supporting this feature will result in additional tests which are more forgiving, so this might be an attractive option.\n",
        "\n",
        "If you choose to implement more than one algorithm, please feel free to include your code and write about it in part two (readme file), but only the code in this notebook will be used in the automated testing.\n",
        "\n",
        "## Dice Game Class\n",
        "A class called `DiceGame` is provided within `dice_game.py` for you to use in your solution. Here is a demonstration of its features.\n",
        "\n",
        "When you create a DiceGame object, by default you will get the rules as stated above. \n",
        "```python\n",
        "game = DiceGame()\n",
        "```\n",
        "Creates a game with 3 normal 6-sided dice. \n",
        "\n",
        "You may wish to modify the game mechanics, and you can do this using the other constructor arguments, for example:\n",
        "```python\n",
        "game = DiceGame(dice=4, sides=3, values=[1, 2, 6], bias=[0.1, 0.1, 0.8], penalty=2)\n",
        "```\n",
        "will create a game where you roll 4 dice, each with 3 sides, labelled 1, 2, and 6, where each die is far more likely to roll a 6 than they are to roll a 1 or a 2, and furthermore the penalty for rerolling is now 2 points instead of 1. *Note: this does not necessarily result in an interesting game.*\n",
        "\n",
        "In games with unusual values or sides (3-sided dice are unusual without trying to turn them upside down), when there are duplicates, `value[i]` becomes `value[-i]`. With odd-sided dice, the middle value will flip onto itself.\n",
        "\n",
        "Once created, the `DiceGame` object can be run in two different modes, *simulation* and *analysis*. It is likely that you will mostly use [*analysis* mode](#Analysis-Mode) to derive your agent's behaviour, but either way some understanding of simulation mode might be useful.\n",
        "\n",
        "### Simulation Mode\n",
        "The object provides the methods required to simulate playing the game. This might be useful if you want to test your agent, or you just want to try playing the game yourself, as we did in the cell earlier. The current dice values are found by calling `get_dice_state()`, they will always be listed in ascending order. "
      ]
    },
    {
      "cell_type": "code",
      "metadata": {
        "id": "bK3G1GL0FIat"
      },
      "source": [
        "from dice_game import DiceGame\n",
        "import numpy as np\n",
        "\n",
        "# setting a seed for the random number generator gives repeatable results, making testing easier!\n",
        "np.random.seed(111)\n",
        "\n",
        "game = DiceGame()\n",
        "game.get_dice_state()"
      ],
      "execution_count": null,
      "outputs": []
    },
    {
      "cell_type": "markdown",
      "metadata": {
        "id": "hAGfHY80FIav"
      },
      "source": [
        "To roll the dice, you call the `roll` method which takes one parameter: a tuple representing which dice you want to hold, numbered from zero. We rolled (2, 3, 4). Suppose we want to hold the 2, we would pass the tuple `(0,)` into the `roll` method (note we need to include the comma so that Python knows this is a tuple).\n",
        "\n",
        "The `roll` method returns a tuple containing: the reward for this action, the new state, and whether the game is over."
      ]
    },
    {
      "cell_type": "code",
      "metadata": {
        "id": "N0nSB9SWFIax"
      },
      "source": [
        "reward, new_state, game_over = game.roll((0,))\n",
        "print(reward)\n",
        "print(new_state)\n",
        "print(game_over)"
      ],
      "execution_count": null,
      "outputs": []
    },
    {
      "cell_type": "markdown",
      "metadata": {
        "id": "DR5LoTTtFIay"
      },
      "source": [
        "Now suppose we are happy and wish to stick to get our final score. We can call the `roll` method and supply a tuple containing all three dice."
      ]
    },
    {
      "cell_type": "code",
      "metadata": {
        "id": "xOUottnsFIaz"
      },
      "source": [
        "reward, new_state, game_over = game.roll((0, 1, 2))\n",
        "print(reward)\n",
        "print(new_state)\n",
        "print(game_over)"
      ],
      "execution_count": null,
      "outputs": []
    },
    {
      "cell_type": "markdown",
      "metadata": {
        "id": "xio678LaFIa2"
      },
      "source": [
        "Remember that the return value is just the reward for the action, in this case 15. To get our final score we can inspect `game.score`. We rerolled once, so expect to get a score of 14."
      ]
    },
    {
      "cell_type": "code",
      "metadata": {
        "id": "xhxHbb1-FIa4"
      },
      "source": [
        "print(game.score)"
      ],
      "execution_count": null,
      "outputs": []
    },
    {
      "cell_type": "markdown",
      "metadata": {
        "id": "_2PA0ARXFIa5"
      },
      "source": [
        "And to play again we can call `game.reset()` which returns the new starting dice."
      ]
    },
    {
      "cell_type": "code",
      "metadata": {
        "id": "x-LmkRZTFIa7"
      },
      "source": [
        "game.reset()"
      ],
      "execution_count": null,
      "outputs": []
    },
    {
      "cell_type": "markdown",
      "metadata": {
        "id": "KyB2OcD2FIa9"
      },
      "source": [
        "### Analysis Mode\n",
        "In analysis mode, you are not playing the game, but asking the object for *all possible outcomes of certain actions*.\n",
        "\n",
        "First of all, it is useful to know that all the possible states and all the possible actions are stored inside the object. Try changing the game mechanics on the first line (e.g. add `dice=2` to the constructor) and see how the other information is updated."
      ]
    },
    {
      "cell_type": "code",
      "metadata": {
        "id": "X1fUSmbOFIa-"
      },
      "source": [
        "game = DiceGame()\n",
        "print(f\"The first 5 of {len(game.states)} possible dice rolls are: {game.states[0:5]}\")\n",
        "print(f\"The possible actions on any given turn are: {game.actions}\")"
      ],
      "execution_count": null,
      "outputs": []
    },
    {
      "cell_type": "markdown",
      "metadata": {
        "id": "3ZzhCRZxFIa_"
      },
      "source": [
        "Finally, the most important method is `get_next_states(action, dice_state)`. This allows you to get all the possible resulting states for any given state and action.\n",
        "\n",
        "Earlier we had the roll of `(2, 3, 4)` and decided to hold the 2. The game can calculate all possible outcomes for us, and crucially will also give us the probability of each state occurring."
      ]
    },
    {
      "cell_type": "code",
      "metadata": {
        "id": "S-OFaeOrFIbB"
      },
      "source": [
        "game = DiceGame()\n",
        "states, game_over, reward, probabilities = game.get_next_states((0,), (2, 3, 4))\n",
        "for state, probability in zip(states, probabilities):\n",
        "    print(f\"Would get roll of {state} with probability {probability}\")"
      ],
      "execution_count": null,
      "outputs": []
    },
    {
      "cell_type": "markdown",
      "metadata": {
        "id": "7Zz81JLFFIbB"
      },
      "source": [
        "The method also works consistently when all dice are held, reporting that this action would cause the game to be over and giving the reward. Note that the list of states returned contains the value `None`. This is to denote that the game has entered a terminal state – no further actions would be allowed. The game does not return the final dice here, because that is another valid state (from which there would still be actions available). Also, the `reward` value is not the same as the final `score` of any given game, because it does not include any possible previous penalties for rerolling."
      ]
    },
    {
      "cell_type": "code",
      "metadata": {
        "id": "NvE8xv71FIbB"
      },
      "source": [
        "states, game_over, reward, probabilities = game.get_next_states((0, 1, 2), (2, 2, 5))\n",
        "print(states)\n",
        "print(game_over)\n",
        "print(reward)"
      ],
      "execution_count": null,
      "outputs": []
    },
    {
      "cell_type": "markdown",
      "metadata": {
        "id": "ruIZ3x2RFIbE"
      },
      "source": [
        "## Part One\n",
        "You should write all of your code for your dice game agent below this cell.\n",
        "\n",
        "Let's start with some example agents, so you can see the format we will use. In the cell below are two agents which do not play particularly well. One always holds immediately, the other will keep re-rolling all dice until they get the best possible dice (`(1, 1, 1)` or `(1, 1, 6)`), ignoring the massive penalty this will incur from re-rolling. Neither of them is considering the probabilities involved in the game.\n",
        "\n",
        "There is also a function which will run the game with an instance of a given agent. When you run the cell, it will simulate a game with each agent."
      ]
    },
    {
      "cell_type": "code",
      "metadata": {
        "id": "yj4f28EgFIbQ",
        "colab": {
          "base_uri": "https://localhost:8080/",
          "height": 236
        },
        "outputId": "32e66ca2-aafa-4e86-a6a5-62140aa1f09a"
      },
      "source": [
        "from abc import ABC, abstractmethod\n",
        "\n",
        "\n",
        "class DiceGameAgent(ABC):\n",
        "    def __init__(self, game):\n",
        "        self.game = game\n",
        "    \n",
        "    @abstractmethod\n",
        "    def play(self, state):\n",
        "        pass\n",
        "\n",
        "\n",
        "class AlwaysHoldAgent(DiceGameAgent):\n",
        "    def play(self, state):\n",
        "        return (0, 1, 2)\n",
        "\n",
        "\n",
        "class PerfectionistAgent(DiceGameAgent):\n",
        "    def play(self, state):\n",
        "        if state == (1, 1, 1) or state == (1, 1, 6):\n",
        "            return (0, 1, 2)\n",
        "        else:\n",
        "            return ()\n",
        "        \n",
        "        \n",
        "def play_game_with_agent(agent, game, verbose=False):\n",
        "    state = game.reset()\n",
        "    \n",
        "    if(verbose): print(f\"Testing agent: \\n\\t{type(agent).__name__}\")\n",
        "    if(verbose): print(f\"Starting dice: \\n\\t{state}\\n\")\n",
        "    \n",
        "    game_over = False\n",
        "    actions = 0\n",
        "    while not game_over:\n",
        "        action = agent.play(state)\n",
        "        actions += 1\n",
        "        \n",
        "        if(verbose): print(f\"Action {actions}: \\t{action}\")\n",
        "        _, state, game_over = game.roll(action)\n",
        "        if(verbose and not game_over): print(f\"Dice: \\t\\t{state}\")\n",
        "\n",
        "    if(verbose): print(f\"\\nFinal dice: {state}, score: {game.score}\")\n",
        "        \n",
        "    return game.score\n",
        "\n",
        "\n",
        "if __name__ == \"__main__\":\n",
        "    # random seed makes the results deterministic\n",
        "    # change the number to see different results\n",
        "    # or delete the line to make it change each time it is run\n",
        "    np.random.seed(1)\n",
        "    \n",
        "    game = DiceGame()\n",
        "    \n",
        "    agent1 = AlwaysHoldAgent(game)\n",
        "    play_game_with_agent(agent1, game, verbose=True)\n",
        "    \n",
        "    print(\"\\n\")\n",
        "    \n",
        "    agent2 = PerfectionistAgent(game)\n",
        "    play_game_with_agent(agent2, game, verbose=True)"
      ],
      "execution_count": null,
      "outputs": [
        {
          "output_type": "error",
          "ename": "NameError",
          "evalue": "ignored",
          "traceback": [
            "\u001b[0;31m---------------------------------------------------------------------------\u001b[0m",
            "\u001b[0;31mNameError\u001b[0m                                 Traceback (most recent call last)",
            "\u001b[0;32m<ipython-input-1-49a280d2e3e7>\u001b[0m in \u001b[0;36m<module>\u001b[0;34m()\u001b[0m\n\u001b[1;32m     49\u001b[0m     \u001b[0;31m# change the number to see different results\u001b[0m\u001b[0;34m\u001b[0m\u001b[0;34m\u001b[0m\u001b[0;34m\u001b[0m\u001b[0m\n\u001b[1;32m     50\u001b[0m     \u001b[0;31m# or delete the line to make it change each time it is run\u001b[0m\u001b[0;34m\u001b[0m\u001b[0;34m\u001b[0m\u001b[0;34m\u001b[0m\u001b[0m\n\u001b[0;32m---> 51\u001b[0;31m     \u001b[0mnp\u001b[0m\u001b[0;34m.\u001b[0m\u001b[0mrandom\u001b[0m\u001b[0;34m.\u001b[0m\u001b[0mseed\u001b[0m\u001b[0;34m(\u001b[0m\u001b[0;36m1\u001b[0m\u001b[0;34m)\u001b[0m\u001b[0;34m\u001b[0m\u001b[0;34m\u001b[0m\u001b[0m\n\u001b[0m\u001b[1;32m     52\u001b[0m \u001b[0;34m\u001b[0m\u001b[0m\n\u001b[1;32m     53\u001b[0m     \u001b[0mgame\u001b[0m \u001b[0;34m=\u001b[0m \u001b[0mDiceGame\u001b[0m\u001b[0;34m(\u001b[0m\u001b[0;34m)\u001b[0m\u001b[0;34m\u001b[0m\u001b[0;34m\u001b[0m\u001b[0m\n",
            "\u001b[0;31mNameError\u001b[0m: name 'np' is not defined"
          ]
        }
      ]
    },
    {
      "cell_type": "markdown",
      "metadata": {
        "id": "KYT1sz3jFIbR"
      },
      "source": [
        "In the cell below, write the logic for your own agent. To do this, you need to write a class named `MyAgent` which is a subclass of `DiceGameAgent`, which overrides the `play(self, state)` method. There is some skeleton code in the cell below to help you get started. This is the code which will be tested."
      ]
    },
    {
      "cell_type": "code",
      "metadata": {
        "deletable": false,
        "nbgrader": {
          "cell_type": "code",
          "checksum": "c23c3b5f5b787d247eba0e6f24fcf348",
          "grade": false,
          "grade_id": "cell-cb208d0e0467d373",
          "locked": false,
          "schema_version": 3,
          "solution": true,
          "task": false
        },
        "id": "PCvoQQl0FIbT"
      },
      "source": [
        "class MyAgent(DiceGameAgent):\n",
        "    def __init__(self, game):\n",
        "        \"\"\"\n",
        "        if your code does any pre-processing on the game, you can do it here\n",
        "        e.g. you could do the  here once, store the policy, \n",
        "        and then use it in the play method\n",
        "        you can always access the game with self.game\n",
        "        \"\"\"\n",
        "        \n",
        "        # this calls the superclass constructor (does self.game = game)\n",
        "        super().__init__(game) \n",
        "        \n",
        "        # YOUR CODE HERE\n",
        "        \n",
        "        #Value Iteration Algorithm\n",
        "        self.theta = 0.0009\n",
        "        self.gamma = 0.969\n",
        "        self.value_map = {}\n",
        "        self.policy = {}\n",
        "        \n",
        "        for state in self.game.states:\n",
        "            self.value_map[state] = game.final_score(state)\n",
        "\n",
        "        self.saved_data = {}\n",
        "\n",
        "        delta = self.theta + 1\n",
        "        while delta > self.theta:\n",
        "            d = 0\n",
        "            for state in self.game.states:\n",
        "                current_best = -1000\n",
        "                prev_best = self.value_map[state]\n",
        "                for action in self.game.actions:\n",
        "                    total_prob = self.total_probability(action, state)\n",
        "                    if total_prob > current_best:\n",
        "                        current_best = total_prob\n",
        "                        optimal_action = action\n",
        "                self.value_map[state] = current_best\n",
        "                self.policy[state] = optimal_action\n",
        "                d = max(d, abs(prev_best - current_best))\n",
        "\n",
        "            delta = d\n",
        "    \n",
        "    def total_probability(self, action, state):\n",
        "        # Get the values based on the action-states\n",
        "        if (action, state) not in self.saved_data:\n",
        "            self.saved_data[(action, state)] = self.game.get_next_states(action, state)\n",
        "\n",
        "        output_states, game_over, reward, probabilities = self.saved_data.get((action, state))\n",
        "        total_prob = 0 #state's total probablity.\n",
        "\n",
        "        # Iterating over probabilities of each state state\n",
        "        for output_state, probability in zip(output_states, probabilities):\n",
        "            if not game_over:\n",
        "                total_prob += probability * (reward + self.gamma * self.value_map.get(output_state))\n",
        "            else:\n",
        "                total_prob += probability * (reward + self.gamma * self.game.final_score(state))\n",
        "\n",
        "        return total_prob\n",
        "    \n",
        "    def play(self, state):\n",
        "        \"\"\"\n",
        "        given a state, return the chosen action for this state\n",
        "        at minimum you must support the basic rules: three six-sided fair dice\n",
        "        \n",
        "        if you want to support more rules, use the values inside self.game, e.g.\n",
        "            the input state will be one of self.game.states\n",
        "            you must return one of self.game.actions\n",
        "        \n",
        "        read the code in dicegame.py to learn more\n",
        "        \"\"\"\n",
        "        # YOUR CODE HERE\n",
        "        \n",
        "        return self.policy[state]\n"
      ],
      "execution_count": null,
      "outputs": []
    },
    {
      "cell_type": "markdown",
      "metadata": {
        "id": "Ue9mtp08FIbV"
      },
      "source": [
        "You're free to modify the structure of the code above as you like, but you must make sure your code is compatible with our testing framework, which you can check below.\n",
        "\n",
        "All of your code must go above this cell. You may add additional cells into the notebook if you wish, but do not duplicate or copy/paste cells as this can interfere with the grading script.\n",
        "\n",
        "### Testing Details\n",
        "Your agent will be tested in two ways. First it will be tested in actual random games, and the average score will be measured. All students will get the exact same dice rolls, so the best strategies will get the most points. Second, it will be analysed in specific circumstances (i.e. specific dice rolls) to test what it does compared to the optimal strategy.\n",
        "\n",
        "In addition, if your code supports it, we will repeat these tests with *extended rules*, i.e. not using the default game with three 6-sided fair dice. You can read more about how this affects grading in [this section](#Choice-of-Algorithm). \n",
        "\n",
        "The tests run with a timeout to prevent any submissions slowing down the entire grading. On the testing machine, your agent must take less than 30 seconds to construct, and less than 2 seconds to produce each action. For high marks, execution time will also factor into grading (both construction and average per move time).\n",
        "\n",
        "As we have said before, the best way to improve the performance of your code is through a detailed understanding and smart choice of AI algorithms. This assignment is ***not*** meant to test your ability to write multi-threaded code or any other kind of high-performance code optimisations. \n",
        "\n",
        "#### Test Cell\n",
        "Run the following cell to test your code 10 times and print the average score. You should run this test to ensure your code is working correctly. The actual tests which determine your grade will be different and more thorough. \n",
        "\n",
        "To enable the tests, set the constant `SKIP_TESTS` to `False`.\n",
        "\n",
        "**IMPORTANT**: you must set `SKIP_TESTS` back to `True` before submitting this file!"
      ]
    },
    {
      "cell_type": "code",
      "metadata": {
        "id": "bVWYS4KRFIbV"
      },
      "source": [
        "SKIP_TESTS = True\n",
        "\n",
        "if not SKIP_TESTS:\n",
        "    import time\n",
        "\n",
        "    total_score = 0\n",
        "    total_time = 0\n",
        "    n = 10\n",
        "\n",
        "    np.random.seed()\n",
        "\n",
        "    print(\"Testing basic rules.\")\n",
        "    print()\n",
        "\n",
        "    game = DiceGame()\n",
        "\n",
        "    start_time = time.process_time()\n",
        "    test_agent = MyAgent(game)\n",
        "    total_time += time.process_time() - start_time\n",
        "\n",
        "    for i in range(n):\n",
        "        start_time = time.process_time()\n",
        "        score = play_game_with_agent(test_agent, game)\n",
        "        total_time += time.process_time() - start_time\n",
        "\n",
        "        print(f\"Game {i} score: {score}\")\n",
        "        total_score += score\n",
        "\n",
        "    print()\n",
        "    print(f\"Average score: {total_score/n}\")\n",
        "    print(f\"Total time: {total_time:.4f} seconds\")"
      ],
      "execution_count": null,
      "outputs": []
    },
    {
      "cell_type": "markdown",
      "metadata": {
        "id": "EoXp6626FIbX"
      },
      "source": [
        "#### Opt-In For Extended Rules\n",
        "If you wish your code to be tested with rules other than the defaults, set the constant `TEST_EXTENDED_RULES` to `True` on the next line. Another test will be performed to check your code still works. If you get an error, you are likely not supporting the extended rules properly.\n",
        "\n",
        "Refer to [this section](#Choice-of-Algorithm) to understand more about how extended rules factor into your possible grade.\n",
        "\n",
        "**Note:** you need to have `SKIP_TESTS` set to `False` in the cell above (and run it!) to enable the tests below. The value of `TEST_EXTENDED_RULES` *will* be used in the grading tests."
      ]
    },
    {
      "cell_type": "code",
      "metadata": {
        "id": "G0SZLtXGFIbX"
      },
      "source": [
        "TEST_EXTENDED_RULES = False\n",
        "\n",
        "if not SKIP_TESTS and TEST_EXTENDED_RULES:\n",
        "    total_score = 0\n",
        "    total_time = 0\n",
        "    n = 10\n",
        "\n",
        "    print(\"Testing extended rules – two three-sided dice.\")\n",
        "    print()\n",
        "\n",
        "    game = DiceGame(dice=2, sides=3)\n",
        "\n",
        "    start_time = time.process_time()\n",
        "    test_agent = MyAgent(game)\n",
        "    total_time += time.process_time() - start_time\n",
        "\n",
        "    for i in range(n):\n",
        "        start_time = time.process_time()\n",
        "        score = play_game_with_agent(test_agent, game)\n",
        "        total_time += time.process_time() - start_time\n",
        "\n",
        "        print(f\"Game {i} score: {score}\")\n",
        "        total_score += score\n",
        "\n",
        "    print()\n",
        "    print(f\"Average score: {total_score/n}\")\n",
        "    print(f\"Average time: {total_time/n:.5f} seconds\")"
      ],
      "execution_count": null,
      "outputs": []
    },
    {
      "cell_type": "markdown",
      "metadata": {
        "id": "4EMmwaVGFIbY"
      },
      "source": [
        "## Submission Test\n",
        "The following cell tests if your notebook is ready for submission. **You must not skip this step!**\n",
        "\n",
        "Restart the kernel and run the entire notebook (Kernel → Restart & Run All). Now look at the output of the cell below. \n",
        "\n",
        "*If there is no output, then your submission is not ready.* Either your code is still running (did you forget to skip tests?) or it caused an error.\n",
        "\n",
        "As previously mentioned, failing to follow these instructions can result in a grade of zero."
      ]
    },
    {
      "cell_type": "code",
      "metadata": {
        "deletable": false,
        "editable": false,
        "nbgrader": {
          "cell_type": "code",
          "checksum": "5279267fc523c59f92499fbc338b9a65",
          "grade": false,
          "grade_id": "cell-0e662447caaa3bcc",
          "locked": true,
          "schema_version": 3,
          "solution": false,
          "task": false
        },
        "id": "N1mGqGV-FIba"
      },
      "source": [
        "import sys\n",
        "import pathlib\n",
        "\n",
        "fail = False;\n",
        "\n",
        "if not SKIP_GAME:\n",
        "    fail = True;\n",
        "    print(\"You must set the SKIP_GAME constant to True in the earlier cell.\")\n",
        "\n",
        "if not SKIP_TESTS:\n",
        "    fail = True;\n",
        "    print(\"You must set the SKIP_TESTS constant to True in the earlier cell.\")\n",
        "    \n",
        "p1 = pathlib.Path('./readme.txt')\n",
        "p2 = pathlib.Path('./readme.md')\n",
        "if not (p1.is_file() or p2.is_file()):\n",
        "    fail = True;\n",
        "    print(\"You must include a separate file called readme.txt or readme.md in your submission.\")\n",
        "    \n",
        "p3 = pathlib.Path('./dicegame.ipynb')\n",
        "if not p3.is_file():\n",
        "    fail = True\n",
        "    print(\"This notebook file must be named dicegame.ipynb\")\n",
        "    \n",
        "if \"MyAgent\" not in dir():\n",
        "    fail = True;\n",
        "    print(\"You must include a class called MyAgent as defined above.\")\n",
        "else:    \n",
        "    game = DiceGame()\n",
        "    agent = MyAgent(game)\n",
        "    action = agent.play((1, 1, 1))\n",
        "\n",
        "    if action not in game.actions:\n",
        "        print(\"Warning:\")\n",
        "        print(\"Your agent does not seem to produce a valid action with the default rules.\")\n",
        "        print()\n",
        "        print(\"Your assignment is unlikely to get any marks from the autograder. While we will\")\n",
        "        print(\"try to check it manually to assign some partial credit, we encourage you to ask\")\n",
        "        print(\"for help on the forum or directly to a tutor.\")\n",
        "        print()\n",
        "        print(\"Please use the readme file to explain your code anyway.\")\n",
        "        \n",
        "    if TEST_EXTENDED_RULES:\n",
        "        print(\"Info: TEST_EXTENDED_RULES is ON\")\n",
        "        game = DiceGame(dice=2, sides=8)\n",
        "        agent = MyAgent(game)\n",
        "        try:\n",
        "            action = agent.play((7, 8))\n",
        "        except:\n",
        "            action = None\n",
        "\n",
        "        if action not in game.actions:\n",
        "            fail = True\n",
        "            print(\"Your agent does not produce a valid action with the extended rules.\")\n",
        "            print(\"Turn off TEST_EXTENDED_RULES if you cannot fix this error.\")\n",
        "    else:\n",
        "        print(\"Info: TEST_EXTENDED_RULES is OFF (extended rules will not be tested)\")\n",
        "    \n",
        "if fail:\n",
        "    print()\n",
        "    sys.stderr.write(\"Your submission is not ready! Please read and follow the instructions above.\")\n",
        "else:\n",
        "    print()\n",
        "    print(\"All checks passed. When you are ready to submit, upload the notebook and readme file to the\")\n",
        "    print(\"assignment page, without changing any filenames.\")\n",
        "    print()\n",
        "    print(\"If you need to submit multiple files, you can archive them in a .zip file. (No other format.)\")"
      ],
      "execution_count": null,
      "outputs": []
    },
    {
      "cell_type": "code",
      "metadata": {
        "deletable": false,
        "editable": false,
        "nbgrader": {
          "cell_type": "code",
          "checksum": "2e79088eef80312d3d223f6a463e5648",
          "grade": true,
          "grade_id": "cell-7ffe19fac82d0fb1",
          "locked": true,
          "points": 100,
          "schema_version": 3,
          "solution": false,
          "task": false
        },
        "id": "gY_ZmmJlFIbb"
      },
      "source": [
        "# This is a TEST CELL. Do not delete or change."
      ],
      "execution_count": null,
      "outputs": []
    }
  ]
}