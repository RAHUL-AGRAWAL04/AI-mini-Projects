{
  "nbformat": 4,
  "nbformat_minor": 0,
  "metadata": {
    "colab": {
      "name": "3_WATER_JUG_USING_BFS.ipynb",
      "provenance": [],
      "collapsed_sections": []
    },
    "kernelspec": {
      "name": "python3",
      "display_name": "Python 3"
    }
  },
  "cells": [
    {
      "cell_type": "code",
      "metadata": {
        "id": "Z1_sSYy9AiTE"
      },
      "source": [
        "import time\n",
        "jug1 = 8\n",
        "jug2 = 5\n",
        "jug3 = 3"
      ],
      "execution_count": null,
      "outputs": []
    },
    {
      "cell_type": "code",
      "metadata": {
        "colab": {
          "base_uri": "https://localhost:8080/"
        },
        "id": "LOVKBib6AiTK",
        "outputId": "823f2a2b-6036-48cd-fa77-7ca1b0be0fca"
      },
      "source": [
        "def pour_water_from_jug1_to_jug2(capacity):\n",
        "    current_jug1 = capacity[0]\n",
        "    current_jug2 = capacity[1]\n",
        "    current_jug3 = capacity[2]\n",
        "    available_capacity = jug2-current_jug2\n",
        "    while True:\n",
        "      if (current_jug1<=0 or current_jug2>=jug2) or available_capacity<=0:\n",
        "          break\n",
        "      else:\n",
        "        available_capacity -= 1\n",
        "        current_jug1 -= 1\n",
        "        current_jug2 += 1\n",
        "    return [current_jug1,current_jug2, current_jug3]    \n",
        "\n",
        "# driver code:\n",
        "new_states = pour_water_from_jug1_to_jug2([8,0,0])\n",
        "print(new_states)"
      ],
      "execution_count": null,
      "outputs": [
        {
          "output_type": "stream",
          "text": [
            "[3, 5, 0]\n"
          ],
          "name": "stdout"
        }
      ]
    },
    {
      "cell_type": "code",
      "metadata": {
        "colab": {
          "base_uri": "https://localhost:8080/"
        },
        "id": "Iy1OzbiXf6sv",
        "outputId": "299f5cf0-a42d-457f-c7ca-d1968d2beac3"
      },
      "source": [
        "def pour_water_from_jug1_to_jug3(capacity):\n",
        "    current_jug1 = capacity[0]\n",
        "    current_jug2 = capacity[1]\n",
        "    current_jug3 = capacity[2]\n",
        "    available_capacity = jug3-current_jug3\n",
        "    while True:\n",
        "      if (current_jug1<=0 or current_jug3>=jug3) or available_capacity<=0:\n",
        "          break\n",
        "      else:\n",
        "        available_capacity -= 1\n",
        "        current_jug1 -= 1\n",
        "        current_jug3 += 1\n",
        "    return [current_jug1,current_jug2,current_jug3]    \n",
        "       \n",
        "# driver code:\n",
        "new_states = pour_water_from_jug1_to_jug3([8,0,0])\n",
        "print(new_states)"
      ],
      "execution_count": null,
      "outputs": [
        {
          "output_type": "stream",
          "text": [
            "[5, 0, 3]\n"
          ],
          "name": "stdout"
        }
      ]
    },
    {
      "cell_type": "code",
      "metadata": {
        "colab": {
          "base_uri": "https://localhost:8080/"
        },
        "id": "jTKdPpWEf8rc",
        "outputId": "ff85b044-3a6e-4359-e899-56aa4a618a16"
      },
      "source": [
        "def pour_water_from_jug2_to_jug1(capacity):\n",
        "    current_jug1 = capacity[0]\n",
        "    current_jug2 = capacity[1]\n",
        "    current_jug3 = capacity[2]\n",
        "    available_capacity = jug1-current_jug1\n",
        "    while True:\n",
        "      if (current_jug2<=0 or current_jug1>=jug1) or available_capacity<=0:\n",
        "          break\n",
        "      else:\n",
        "        available_capacity -= 1\n",
        "        current_jug2 -= 1\n",
        "        current_jug1 += 1\n",
        "    return [current_jug1,current_jug2,current_jug3]     \n",
        "      \n",
        "# driver code:\n",
        "new_states = pour_water_from_jug2_to_jug1([2,3,3])\n",
        "print(new_states)"
      ],
      "execution_count": null,
      "outputs": [
        {
          "output_type": "stream",
          "text": [
            "[5, 0, 3]\n"
          ],
          "name": "stdout"
        }
      ]
    },
    {
      "cell_type": "code",
      "metadata": {
        "colab": {
          "base_uri": "https://localhost:8080/"
        },
        "id": "WJOfpwtPgAFx",
        "outputId": "14b78a2a-b832-4f65-a04f-5480f682f13e"
      },
      "source": [
        "def pour_water_from_jug2_to_jug3(capacity):\n",
        "    current_jug1 = capacity[0]\n",
        "    current_jug2 = capacity[1]\n",
        "    current_jug3 = capacity[2]\n",
        "    available_capacity = jug3-current_jug3\n",
        "    while True:\n",
        "      if (current_jug2<=0 or current_jug3>=jug3) or available_capacity<=0:\n",
        "          break\n",
        "      else:\n",
        "        available_capacity -= 1\n",
        "        current_jug2 -= 1\n",
        "        current_jug3 += 1\n",
        "    return [current_jug1,current_jug2, current_jug3]    \n",
        "       \n",
        "# driver code:\n",
        "new_states = pour_water_from_jug2_to_jug3([3,5,0])\n",
        "print(new_states)"
      ],
      "execution_count": null,
      "outputs": [
        {
          "output_type": "stream",
          "text": [
            "[3, 2, 3]\n"
          ],
          "name": "stdout"
        }
      ]
    },
    {
      "cell_type": "code",
      "metadata": {
        "colab": {
          "base_uri": "https://localhost:8080/"
        },
        "id": "sVxTehNIgDbP",
        "outputId": "4d7399fa-c78b-43b2-94bb-4436b74cb196"
      },
      "source": [
        "def pour_water_from_jug3_to_jug2(capacity):\n",
        "    current_jug1 = capacity[0]\n",
        "    current_jug2 = capacity[1]\n",
        "    current_jug3 = capacity[2]\n",
        "    available_capacity = jug2-current_jug2\n",
        "    while True:\n",
        "      if (current_jug3<=0 or current_jug2>=jug2) or available_capacity<=0:\n",
        "          break\n",
        "      else:\n",
        "        available_capacity -= 1\n",
        "        current_jug3 -= 1\n",
        "        current_jug2 += 1\n",
        "    return [current_jug1,current_jug2,current_jug3]     \n",
        "      \n",
        "# driver code:\n",
        "new_states = pour_water_from_jug3_to_jug2([5,0,3])\n",
        "print(new_states)"
      ],
      "execution_count": null,
      "outputs": [
        {
          "output_type": "stream",
          "text": [
            "[5, 3, 0]\n"
          ],
          "name": "stdout"
        }
      ]
    },
    {
      "cell_type": "code",
      "metadata": {
        "colab": {
          "base_uri": "https://localhost:8080/"
        },
        "id": "DrwNyD_CgFVe",
        "outputId": "0129873b-34a6-4986-f08e-519d0ebfe668"
      },
      "source": [
        "def pour_water_from_jug3_to_jug1(capacity):\n",
        "    current_jug1 = capacity[0]\n",
        "    current_jug2 = capacity[1]\n",
        "    current_jug3 = capacity[2]\n",
        "    available_capacity = jug1-current_jug1\n",
        "    while True:\n",
        "      if (current_jug3<=0 or current_jug1>=jug1) or available_capacity<=0:\n",
        "          break\n",
        "      else:\n",
        "        available_capacity -= 1\n",
        "        current_jug3 -= 1\n",
        "        current_jug1 += 1\n",
        "    return [current_jug1,current_jug2, current_jug3]     \n",
        "      \n",
        "# driver code:\n",
        "new_states = pour_water_from_jug3_to_jug1([0,5,3])\n",
        "print(new_states)"
      ],
      "execution_count": null,
      "outputs": [
        {
          "output_type": "stream",
          "text": [
            "[3, 5, 0]\n"
          ],
          "name": "stdout"
        }
      ]
    },
    {
      "cell_type": "code",
      "metadata": {
        "colab": {
          "base_uri": "https://localhost:8080/"
        },
        "id": "shP6wY-i2qCD",
        "outputId": "1481542c-3371-4b9b-b483-8d3170e82538"
      },
      "source": [
        "def find_path(parents):\n",
        "    path=[]\n",
        "    path.append(parents[len(parents)-1][1])\n",
        "    path.append(parents[len(parents)-1][0])\n",
        "    x=parents[len(parents)-1][0]\n",
        "    for parent in range(len(parents)-2,-1,-1):\n",
        "        if parents[parent][1]==x:\n",
        "            x=parents[parent][0]\n",
        "            path.append(x)\n",
        "    return path\n",
        "    \n",
        "#drivers code\n",
        "x=find_path([['E', 'A'], ['E', 'B'], ['E', 'D'], ['E', 'H'], ['A', 'C'], ['H', 'F'], ['C', 'G']])\n",
        "print(x)"
      ],
      "execution_count": null,
      "outputs": [
        {
          "output_type": "stream",
          "text": [
            "['G', 'C', 'A', 'E']\n"
          ],
          "name": "stdout"
        }
      ]
    },
    {
      "cell_type": "code",
      "metadata": {
        "colab": {
          "base_uri": "https://localhost:8080/"
        },
        "id": "FEGvukjrAiTM",
        "outputId": "44c1118f-6236-4d75-a170-9c46be62b000"
      },
      "source": [
        "def bfs_goal_search(start,goal):\n",
        "    explored = []\n",
        "    queue = [start]\n",
        "    neighbour=[]\n",
        "    parents=[]\n",
        "    if(start==goal):\n",
        "        return(print(\"start is goal\"))\n",
        "\n",
        "    while queue:\n",
        "        node = queue.pop(0)\n",
        "        if node not in explored:\n",
        "            explored.append(node)\n",
        "\n",
        "        neighbour = pour_water_from_jug1_to_jug2(node)\n",
        "        if neighbour != None:\n",
        "            if neighbour not in queue and neighbour not in explored :\n",
        "                queue.append(neighbour)\n",
        "                parents.append([node,neighbour])\n",
        "            if neighbour == goal:\n",
        "                return find_path(parents)\n",
        "                return neighbour\n",
        "                    \n",
        "        neighbour = pour_water_from_jug1_to_jug3(node)\n",
        "        if neighbour != None:\n",
        "            if neighbour not in queue and neighbour not in explored :\n",
        "                queue.append(neighbour)\n",
        "                parents.append([node,neighbour])\n",
        "            if neighbour == goal:\n",
        "                return find_path(parents)\n",
        "                return neighbour\n",
        "        \n",
        "        neighbour = pour_water_from_jug2_to_jug1(node)\n",
        "        if neighbour != None:\n",
        "            if neighbour not in queue and neighbour not in explored :\n",
        "                queue.append(neighbour)\n",
        "                parents.append([node,neighbour])\n",
        "            if neighbour == goal:\n",
        "                return find_path(parents)\n",
        "                return neighbour\n",
        "            \n",
        "        neighbour = pour_water_from_jug2_to_jug3(node)\n",
        "        if neighbour != None:\n",
        "            if neighbour not in queue and neighbour not in explored :\n",
        "                queue.append(neighbour)\n",
        "                parents.append([node,neighbour])\n",
        "            if neighbour == goal:\n",
        "                return find_path(parents)\n",
        "                return neighbour\n",
        "\n",
        "        neighbour = pour_water_from_jug3_to_jug1(node)\n",
        "        if neighbour != None:\n",
        "            if neighbour not in queue and neighbour not in explored :\n",
        "                queue.append(neighbour)\n",
        "                parents.append([node,neighbour])\n",
        "            if neighbour == goal:\n",
        "                return find_path(parents)\n",
        "                return neighbour\n",
        "\n",
        "        neighbour = pour_water_from_jug3_to_jug2(node)\n",
        "        if neighbour != None:\n",
        "            if neighbour not in queue and neighbour not in explored :\n",
        "                queue.append(neighbour)\n",
        "                parents.append([node,neighbour])\n",
        "            if neighbour == goal:\n",
        "                return find_path(parents)\n",
        "                return neighbour\n",
        "            \n",
        "     \n",
        "# driver code      \n",
        "start = [8,0,0]\n",
        "goal = [4,4,0]\n",
        "print('Solution of 3 water jug problem with jug1=8, jug2=5, jug3=3 as capacity of 3 jugs')\n",
        "print('=================================================================================')\n",
        "solutions = bfs_goal_search(start,goal)\n",
        "print('Initial State(step- 1) ==>',solutions[-1])\n",
        "for index in range(2,len(solutions)):\n",
        "  print('Step-',index,'==>',solutions[-index])\n",
        "print('Goal State(step-',len(solutions),') ==>',solutions[0])"
      ],
      "execution_count": null,
      "outputs": [
        {
          "output_type": "stream",
          "text": [
            "Solution of 3 water jug problem with jug1=8, jug2=5, jug3=3 as capacity of 3 jugs\n",
            "=================================================================================\n",
            "Initial State(step- 1) ==> [8, 0, 0]\n",
            "Step- 2 ==> [3, 5, 0]\n",
            "Step- 3 ==> [3, 2, 3]\n",
            "Step- 4 ==> [6, 2, 0]\n",
            "Step- 5 ==> [6, 0, 2]\n",
            "Step- 6 ==> [1, 5, 2]\n",
            "Step- 7 ==> [1, 4, 3]\n",
            "Goal State(step- 8 ) ==> [4, 4, 0]\n"
          ],
          "name": "stdout"
        }
      ]
    }
  ]
}